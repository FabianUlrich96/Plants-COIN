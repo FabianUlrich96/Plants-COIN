{
 "cells": [
  {
   "cell_type": "code",
   "execution_count": 12,
   "id": "1623d6b4-8c7b-4fa0-8cf2-39018c6556d6",
   "metadata": {},
   "outputs": [],
   "source": [
    "from scipy.io import wavfile\n",
    "import matplotlib.pyplot as plt\n",
    "import numpy as np\n",
    "from scipy import signal\n",
    "import scipy.stats as stats\n",
    "from scipy.stats import kurtosis\n",
    "from pyeeg import hjorth_mobility_complexity\n",
    "import pandas as pd\n",
    "from scipy.stats import skew"
   ]
  },
  {
   "cell_type": "code",
   "execution_count": 13,
   "id": "9c3a7fe5-2773-474e-8a51-eddba5bf7685",
   "metadata": {},
   "outputs": [],
   "source": [
    "\n",
    "\n",
    "wav_file = \"./Collection - 10.07.21 - Cleaned_Data/chili_construction-19.23.07.wav\"\n",
    "samplerate, data = wavfile.read(wav_file)\n",
    "nyq = 0.5 *samplerate\n",
    "low_cut = 0\n",
    "high_cut = 20\n",
    "low = low_cut/nyq\n",
    "high = high_cut/nyq\n",
    "b, a = signal.butter(20, 0.1, 'low')\n",
    "length = int(len(data/ samplerate))\n",
    "start = 0 \n",
    "finish = samplerate\n",
    "new_data = np.array([])\n",
    "while start < len(data):\n",
    "    data_new = data[start:finish]\n",
    "    snippet_mean = np.mean(data_new)\n",
    "    new_data = np.append(new_data, [snippet_mean])\n",
    "    start = start + samplerate\n",
    "    finish = finish + samplerate\n",
    "transformed_data = new_data[0:len(new_data) - 1]\n",
    "filteredData = signal.filtfilt(b, a, transformed_data) #data is the signal to be filtered\n",
    "split_array = np.array_split(filteredData, 15)\n",
    "\n",
    "wav_file2 = \"./Collection - 10.07.21 - Cleaned_Data/chili_nosound-18.34.35.wav\"\n",
    "samplerate2, data2 = wavfile.read(wav_file2)\n",
    "nyq = 0.5 *samplerate2\n",
    "low_cut = 0\n",
    "high_cut = 20\n",
    "low = low_cut/nyq\n",
    "high = high_cut/nyq\n",
    "b, a = signal.butter(20, 0.1, 'low')\n",
    "length2 = int(len(data2/ samplerate2))\n",
    "start2 = 0 \n",
    "finish2 = samplerate2\n",
    "new_data2 = np.array([])\n",
    "while start2 < len(data2):\n",
    "    data_new2 = data2[start2:finish2]\n",
    "    snippet_mean2 = np.mean(data_new2)\n",
    "    new_data2 = np.append(new_data2, [snippet_mean2])\n",
    "    start2 = start2 + samplerate2\n",
    "    finish2 = finish2 + samplerate2\n",
    "transformed_data2 = new_data2[0:len(new_data2) - 1]\n",
    "filteredData2 = signal.filtfilt(b, a, transformed_data2) #data is the signal to be filtered\n",
    "split_array2 = np.array_split(filteredData2, 15)"
   ]
  },
  {
   "cell_type": "code",
   "execution_count": 14,
   "id": "b7d994fa-8d17-419d-8ee8-fc3999f80730",
   "metadata": {},
   "outputs": [],
   "source": [
    "csv_file_decibel = \"./Collection - 10.07.21 - Cleaned_Data/chili_construction-19.23.07_decibel.csv\"\n",
    "decibel_df = pd.read_csv(csv_file_decibel)\n",
    "conv_arr= decibel_df.values\n",
    "decibel = np.delete(conv_arr,[0],axis=1) \n",
    "decibel = decibel.ravel()\n",
    "decibel_split_array = np.array_split(decibel, 15)\n",
    "\n",
    "csv_file_decibel2 = \"./Collection - 10.07.21 - Cleaned_Data/chili_construction-19.23.07_decibel.csv\"\n",
    "decibel_df2 = pd.read_csv(csv_file_decibel2)\n",
    "conv_arr2= decibel_df2.values\n",
    "decibel2 = np.delete(conv_arr2,[0],axis=1) \n",
    "decibel2 = decibel2.ravel()\n",
    "decibel_split_array2 = np.array_split(decibel2, 15)"
   ]
  },
  {
   "cell_type": "code",
   "execution_count": 30,
   "id": "a6fb5278-0bd8-4567-adf6-c6eefc8fb7c7",
   "metadata": {},
   "outputs": [
    {
     "name": "stdout",
     "output_type": "stream",
     "text": [
      "-34.104512998986166\n",
      "-50.05244998463077\n",
      "-18.4124923618942\n",
      "-50.0780854521595\n",
      "-32.40496302354798\n",
      "-41.38320000810005\n",
      "-33.26472256494866\n",
      "-43.24560944634791\n",
      "-44.04145565387004\n",
      "-37.56100160154935\n",
      "-33.02594346621808\n",
      "-49.872525017952846\n",
      "-30.80940373717555\n",
      "-33.52334819625554\n",
      "-47.06226310059677\n"
     ]
    },
    {
     "data": {
      "text/plain": [
       "[<matplotlib.lines.Line2D at 0x1cabdd3dbe0>]"
      ]
     },
     "execution_count": 30,
     "metadata": {},
     "output_type": "execute_result"
    },
    {
     "data": {
      "image/png": "[encoded data removed]",
      "text/plain": [
       "<Figure size 432x288 with 1 Axes>"
      ]
     },
     "metadata": {
      "needs_background": "light"
     },
     "output_type": "display_data"
    }
   ],
   "source": [
    " i = 0\n",
    "while i < len(split_array):\n",
    "    mean_value = np.mean(split_array[i])\n",
    "    print(mean_value)\n",
    "    i = i + 1\n",
    "    \n",
    "plt.title(\"Title\")\n",
    "plt.plot(filteredData)\n"
   ]
  },
  {
   "cell_type": "code",
   "execution_count": 16,
   "id": "e7e9def1-652c-41ec-8572-9214b87c112d",
   "metadata": {},
   "outputs": [
    {
     "name": "stdout",
     "output_type": "stream",
     "text": [
      "-0.6813235492893246\n",
      "-1.6725237906969355\n",
      "-1.1210275687211921\n",
      "-1.3756271739667494\n",
      "-1.2715727355208257\n",
      "-1.4529091875484896\n",
      "-0.5542013923558899\n",
      "-0.9483362529724384\n",
      "-1.071005857346299\n",
      "-1.2429476835933946\n",
      "-1.0836455460787415\n",
      "-0.9708914542074654\n",
      "-0.9546266736547588\n",
      "-1.1509006588478088\n",
      "-0.5364216872608645\n"
     ]
    }
   ],
   "source": [
    " i = 0\n",
    "while i < len(split_array):\n",
    "    kurtosis_value = kurtosis(split_array[i])\n",
    "    print(kurtosis_value)\n",
    "    i = i + 1"
   ]
  },
  {
   "cell_type": "code",
   "execution_count": 29,
   "id": "a99ba380-d564-48fe-b877-f603f25fe96a",
   "metadata": {},
   "outputs": [
    {
     "name": "stdout",
     "output_type": "stream",
     "text": [
      "[ 2  5  7 12 14 22 27 38 40 42 49 53 55]\n"
     ]
    },
    {
     "data": {
      "image/png": "[encoded data removed]",
      "text/plain": [
       "<Figure size 432x288 with 1 Axes>"
      ]
     },
     "metadata": {
      "needs_background": "light"
     },
     "output_type": "display_data"
    }
   ],
   "source": [
    "max = signal.argrelmax(split_array[2])\n",
    "peaks, _= signal.find_peaks(decibel_split_array[7], height=0)\n",
    "plt.plot(decibel_split_array[7])\n",
    "plt.title(\"Title\")\n",
    "plt.plot(peaks, decibel_split_array[7][peaks], \"x\")\n",
    "\n",
    "print(peaks)"
   ]
  },
  {
   "cell_type": "code",
   "execution_count": 18,
   "id": "36b2d57a-2003-4d32-b3bd-b0b00bf87fd8",
   "metadata": {},
   "outputs": [
    {
     "name": "stdout",
     "output_type": "stream",
     "text": [
      "23.47503489039749\n",
      "37.93897830525165\n",
      "23.200263030408745\n",
      "6.453602032393666\n",
      "17.184329871946055\n",
      "22.119094255401276\n",
      "9.617680884152762\n",
      "15.566479401044734\n",
      "9.251058150923694\n",
      "4.282321425786629\n",
      "6.310444378388102\n",
      "8.28526254029358\n",
      "7.376646115989714\n",
      "9.478079848885766\n",
      "7.138904255491493\n"
     ]
    }
   ],
   "source": [
    " i = 0\n",
    "while i < len(split_array):\n",
    "    std_value = np.std(split_array[i])\n",
    "    print(std_value)\n",
    "    i = i + 1\n"
   ]
  },
  {
   "cell_type": "code",
   "execution_count": 19,
   "id": "c3744435-4d4b-4ebd-88fb-d64ba501c0f7",
   "metadata": {},
   "outputs": [
    {
     "name": "stdout",
     "output_type": "stream",
     "text": [
      "0.9301050201442176\n",
      "0.24843149173921902\n",
      "-0.34592948463220075\n",
      "0.12161179938944\n",
      "-0.5676643795728437\n",
      "-0.17475992536469978\n",
      "-0.18461423247049433\n",
      "0.345345733720274\n",
      "0.3931272344988476\n",
      "-0.11884085464901994\n",
      "-0.38150929110346415\n",
      "0.5939719737304224\n",
      "0.2500762683738932\n",
      "-0.2520181337095858\n",
      "0.5208173681863949\n"
     ]
    }
   ],
   "source": [
    " i = 0\n",
    "while i < len(split_array):\n",
    "    skew_value = skew(split_array[i])\n",
    "    print(skew_value)\n",
    "    i = i + 1"
   ]
  },
  {
   "cell_type": "code",
   "execution_count": 26,
   "id": "abc146dd-b266-4555-bf6e-5c0e64abfde8",
   "metadata": {},
   "outputs": [
    {
     "data": {
      "text/plain": [
       "(0.017018107850480527, 58.34374525470427)"
      ]
     },
     "execution_count": 26,
     "metadata": {},
     "output_type": "execute_result"
    }
   ],
   "source": [
    "ttest = stats.ttest_ind(split_array[9],\n",
    "                split_array2[9])\n",
    "\n",
    "pearson = stats.pearsonr(split_array[9],\n",
    "                split_array2[9])\n",
    "\n",
    "hjorth_mobility_complexity.hjorth(split_array[4])"
   ]
  },
  {
   "cell_type": "code",
   "execution_count": 27,
   "id": "73e61281-f1d7-4802-a22c-31a8d31b7056",
   "metadata": {},
   "outputs": [
    {
     "name": "stdout",
     "output_type": "stream",
     "text": [
      "Ttest_indResult(statistic=2.1370798902339194, pvalue=0.03465574573664584)\n"
     ]
    }
   ],
   "source": [
    "print(ttest)"
   ]
  },
  {
   "cell_type": "code",
   "execution_count": 28,
   "id": "e3d49c89-13e7-473c-bb1d-b644ed6c6128",
   "metadata": {},
   "outputs": [
    {
     "name": "stdout",
     "output_type": "stream",
     "text": [
      "(0.36245049288866504, 0.004428132451440224)\n"
     ]
    }
   ],
   "source": [
    "print(pearson)"
   ]
  },
  {
   "cell_type": "code",
   "execution_count": null,
   "id": "47aee1d0-a8e1-4eb2-b232-8b264ddc44bf",
   "metadata": {},
   "outputs": [],
   "source": []
  }
 ],
 "metadata": {
  "kernelspec": {
   "display_name": "Python 3 (ipykernel)",
   "language": "python",
   "name": "python3"
  },
  "language_info": {
   "codemirror_mode": {
    "name": "ipython",
    "version": 3
   },
   "file_extension": ".py",
   "mimetype": "text/x-python",
   "name": "python",
   "nbconvert_exporter": "python",
   "pygments_lexer": "ipython3",
   "version": "3.9.5"
  }
 },
 "nbformat": 4,
 "nbformat_minor": 5
}
