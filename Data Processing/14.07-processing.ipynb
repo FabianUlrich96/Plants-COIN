{
 "cells": [
  {
   "cell_type": "code",
   "execution_count": 1,
   "id": "c27cde66-684c-41db-932c-03165746d4cc",
   "metadata": {},
   "outputs": [],
   "source": [
    "from scipy.io import wavfile\n",
    "import numpy as np"
   ]
  },
  {
   "cell_type": "code",
   "execution_count": 34,
   "id": "cc6429f9-8200-44b3-9bdb-73b806308793",
   "metadata": {},
   "outputs": [],
   "source": [
    "wav_file = \"./Collection - 10.07.21 - Cleaned_Data/chili_construction-19.23.07.wav\"\n",
    "samplerate, data = wavfile.read(wav_file)\n",
    "length = int(len(data/ samplerate))\n",
    "start = 0 \n",
    "finish = samplerate\n",
    "new_data = np.array([])\n",
    "while start < len(data):\n",
    "    data_new = data[start:finish]\n",
    "    snippet_mean = np.mean(data_new)\n",
    "    new_data = np.append(new_data, [snippet_mean])\n",
    "    start = start + samplerate\n",
    "    finish = finish + samplerate\n",
    "transformed_data = new_data[0:len(new_data) - 1]\n",
    "split_array = np.array_split(new_data, 15)\n",
    "\n",
    "wav_file2 = \"./Collection - 10.07.21 - Cleaned_Data/chili_nosound-18.34.35.wav\"\n",
    "samplerate2, data2 = wavfile.read(wav_file2)\n",
    "length2 = int(len(data2/ samplerate2))\n",
    "start2 = 0 \n",
    "finish2 = samplerate2\n",
    "new_data2 = np.array([])\n",
    "while start2 < len(data2):\n",
    "    data_new2 = data2[start2:finish2]\n",
    "    snippet_mean2 = np.mean(data_new2)\n",
    "    new_data2 = np.append(new_data2, [snippet_mean2])\n",
    "    start2 = start2 + samplerate2\n",
    "    finish2 = finish2 + samplerate2\n",
    "transformed_data2 = new_data2[0:len(new_data2) - 1]\n",
    "split_array2 = np.array_split(new_data2, 15)"
   ]
  },
  {
   "cell_type": "code",
   "execution_count": 16,
   "id": "d49167bc-da27-4330-8e63-cf250b14a230",
   "metadata": {},
   "outputs": [],
   "source": [
    "i = 0\n",
    "while i < len(split_array):\n",
    "    number = str(i)\n",
    "    np.savetxt(\"chili_construction-\" + number + \".csv\", split_array[i], delimiter=\",\")\n",
    "    i = i + 1\n"
   ]
  },
  {
   "cell_type": "code",
   "execution_count": 35,
   "id": "b9300ca3-0feb-477e-9815-7ba20a9da15b",
   "metadata": {},
   "outputs": [],
   "source": [
    "csv_file_decibel = \"./Collection - 10.07.21 - Cleaned_Data/chili_construction-19.23.07_decibel.csv\"\n",
    "import pandas as pd\n",
    "decibel_df = pd.read_csv(csv_file_decibel)\n",
    "conv_arr= decibel_df.values\n",
    "decibel = np.delete(conv_arr,[0],axis=1) \n",
    "decibel = decibel.ravel()\n",
    "decibel_split_array = np.array_split(decibel, 15)"
   ]
  },
  {
   "cell_type": "code",
   "execution_count": 36,
   "id": "40241ba8-d98b-44aa-81dc-9b49052728ad",
   "metadata": {},
   "outputs": [],
   "source": [
    "i = 0\n",
    "while i < len(decibel_split_array):\n",
    "    number = str(i)\n",
    "    np.savetxt(\"chili_decibel_construction-\" + number + \".csv\", decibel_split_array[i], delimiter=\",\")\n",
    "    i = i + 1"
   ]
  },
  {
   "cell_type": "code",
   "execution_count": 4,
   "id": "48089937-dc7a-4e4b-a17c-5f4c2433a201",
   "metadata": {},
   "outputs": [
    {
     "name": "stdout",
     "output_type": "stream",
     "text": [
      "[-84.7545 -77.4631 -82.6094 -76.1971 -70.5177 -69.9244 -72.5363 -72.5985\n",
      " -71.6455 -68.9174 -70.3692 -71.8893 -69.1449 -69.1218 -71.6069 -73.6981\n",
      " -74.2956 -77.0718 -76.2671 -76.2201 -78.0352 -78.3496 -76.1974 -78.9489\n",
      " -77.6916 -77.9753 -80.4697 -78.5641 -77.0651 -78.4344 -76.848  -74.7057\n",
      " -75.4929 -77.1689 -74.4899 -75.431  -77.0626 -76.1156 -77.5394 -77.0291\n",
      " -74.9625 -75.1203 -72.4429 -71.3155 -70.3386 -67.8227 -63.1263 -60.5739\n",
      " -56.7377 -50.7869 -50.4663 -52.3837 -49.8532 -50.8082 -50.949  -50.1792\n",
      " -49.7968 -52.0354 -52.5465 -50.431  -49.4768]\n"
     ]
    }
   ],
   "source": [
    "print(split_array[0])"
   ]
  },
  {
   "cell_type": "code",
   "execution_count": 5,
   "id": "6579141a-0a38-4a66-84f1-d5afc5196669",
   "metadata": {},
   "outputs": [],
   "source": [
    "import scipy.stats as stats"
   ]
  },
  {
   "cell_type": "code",
   "execution_count": 51,
   "id": "e2a943f6-f260-486a-8771-c501118f09e8",
   "metadata": {},
   "outputs": [
    {
     "data": {
      "text/plain": [
       "Ttest_indResult(statistic=8.756316730109592, pvalue=1.7139407809949896e-14)"
      ]
     },
     "execution_count": 51,
     "metadata": {},
     "output_type": "execute_result"
    }
   ],
   "source": [
    "stats.ttest_ind(split_array[9],\n",
    "                split_array2[9])"
   ]
  },
  {
   "cell_type": "code",
   "execution_count": 32,
   "id": "a0509910-16ac-4340-99f0-9db60c16c5e8",
   "metadata": {},
   "outputs": [
    {
     "name": "stdout",
     "output_type": "stream",
     "text": [
      "[ -49.9166  -56.0303  -57.9535  -58.6692  -55.0097  -58.234   -63.9507\n",
      "  -65.2299  -68.646   -69.9548  -70.2759  -71.1107  -72.2615  -73.6918\n",
      "  -76.3157  -81.3485  -79.3412  -75.8892  -74.6306  -75.2788  -72.9163\n",
      "  -68.7164  -71.4257  -69.9368  -72.0426  -76.4656  -72.7364  -86.9183\n",
      "  -89.2329  -90.3386  -90.5146  -98.5337  -97.7451 -103.4017 -102.5545\n",
      "  -99.6921 -102.3743 -101.6344 -100.0559 -100.215   -99.2566  -97.8681\n",
      "  -96.4946  -98.732   -96.5022  -99.7638  -97.2794  -95.1903  -91.8435\n",
      "  -90.8895  -91.2913  -91.4501  -92.0514  -92.9832  -99.0528 -103.1518\n",
      " -100.5     -94.6716  -88.5234  -87.5604  -84.0673]\n"
     ]
    }
   ],
   "source": [
    "print(split_array[1])"
   ]
  },
  {
   "cell_type": "code",
   "execution_count": 33,
   "id": "39d13766-3126-440c-8b83-f4ddd993eece",
   "metadata": {},
   "outputs": [
    {
     "name": "stdout",
     "output_type": "stream",
     "text": [
      "[ -49.9166  -56.0303  -57.9535  -58.6692  -55.0097  -58.234   -63.9507\n",
      "  -65.2299  -68.646   -69.9548  -70.2759  -71.1107  -72.2615  -73.6918\n",
      "  -76.3157  -81.3485  -79.3412  -75.8892  -74.6306  -75.2788  -72.9163\n",
      "  -68.7164  -71.4257  -69.9368  -72.0426  -76.4656  -72.7364  -86.9183\n",
      "  -89.2329  -90.3386  -90.5146  -98.5337  -97.7451 -103.4017 -102.5545\n",
      "  -99.6921 -102.3743 -101.6344 -100.0559 -100.215   -99.2566  -97.8681\n",
      "  -96.4946  -98.732   -96.5022  -99.7638  -97.2794  -95.1903  -91.8435\n",
      "  -90.8895  -91.2913  -91.4501  -92.0514  -92.9832  -99.0528 -103.1518\n",
      " -100.5     -94.6716  -88.5234  -87.5604  -84.0673]\n"
     ]
    }
   ],
   "source": [
    "print(split_array2[1])"
   ]
  },
  {
   "cell_type": "code",
   "execution_count": null,
   "id": "bc96df6d-e365-487c-9f44-9fa0a770ca62",
   "metadata": {},
   "outputs": [],
   "source": []
  }
 ],
 "metadata": {
  "kernelspec": {
   "display_name": "Python 3 (ipykernel)",
   "language": "python",
   "name": "python3"
  },
  "language_info": {
   "codemirror_mode": {
    "name": "ipython",
    "version": 3
   },
   "file_extension": ".py",
   "mimetype": "text/x-python",
   "name": "python",
   "nbconvert_exporter": "python",
   "pygments_lexer": "ipython3",
   "version": "3.9.5"
  }
 },
 "nbformat": 4,
 "nbformat_minor": 5
}
