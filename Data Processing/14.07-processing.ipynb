{
 "cells": [
  {
   "cell_type": "code",
   "execution_count": 1,
   "id": "c27cde66-684c-41db-932c-03165746d4cc",
   "metadata": {},
   "outputs": [],
   "source": [
    "from scipy.io import wavfile\n",
    "import numpy as np"
   ]
  },
  {
   "cell_type": "code",
   "execution_count": 15,
   "id": "cc6429f9-8200-44b3-9bdb-73b806308793",
   "metadata": {},
   "outputs": [],
   "source": [
    "wav_file = \"./Collection - 10.07.21 - Cleaned_Data/chili_construction-19.23.07.wav\"\n",
    "samplerate, data = wavfile.read(wav_file)\n",
    "length = int(len(data/ samplerate))\n",
    "start = 0 \n",
    "finish = samplerate\n",
    "new_data = np.array([])\n",
    "while start < len(data):\n",
    "    data_new = data[start:finish]\n",
    "    snippet_mean = np.mean(data_new)\n",
    "    new_data = np.append(new_data, [snippet_mean])\n",
    "    start = start + samplerate\n",
    "    finish = finish + samplerate\n",
    "transformed_data = new_data[0:len(new_data) - 1]\n",
    "split_array = np.array_split(new_data, 15)"
   ]
  },
  {
   "cell_type": "code",
   "execution_count": 16,
   "id": "d49167bc-da27-4330-8e63-cf250b14a230",
   "metadata": {},
   "outputs": [],
   "source": [
    "i = 0\n",
    "while i < len(split_array):\n",
    "    number = str(i)\n",
    "    np.savetxt(\"chili_construction-\" + number + \".csv\", split_array[i], delimiter=\",\")\n",
    "    i = i + 1\n"
   ]
  },
  {
   "cell_type": "code",
   "execution_count": 35,
   "id": "b9300ca3-0feb-477e-9815-7ba20a9da15b",
   "metadata": {},
   "outputs": [],
   "source": [
    "csv_file_decibel = \"./Collection - 10.07.21 - Cleaned_Data/chili_construction-19.23.07_decibel.csv\"\n",
    "import pandas as pd\n",
    "decibel_df = pd.read_csv(csv_file_decibel)\n",
    "conv_arr= decibel_df.values\n",
    "decibel = np.delete(conv_arr,[0],axis=1) \n",
    "decibel = decibel.ravel()\n",
    "decibel_split_array = np.array_split(decibel, 15)"
   ]
  },
  {
   "cell_type": "code",
   "execution_count": 36,
   "id": "40241ba8-d98b-44aa-81dc-9b49052728ad",
   "metadata": {},
   "outputs": [],
   "source": [
    "i = 0\n",
    "while i < len(decibel_split_array):\n",
    "    number = str(i)\n",
    "    np.savetxt(\"chili_decibel_construction-\" + number + \".csv\", decibel_split_array[i], delimiter=\",\")\n",
    "    i = i + 1"
   ]
  },
  {
   "cell_type": "code",
   "execution_count": 23,
   "id": "48089937-dc7a-4e4b-a17c-5f4c2433a201",
   "metadata": {},
   "outputs": [
    {
     "name": "stdout",
     "output_type": "stream",
     "text": [
      "[67.61146006 65.97706153 65.83625375 67.95184868 66.30680953 65.74259241\n",
      " 68.63370689 50.60399396 46.56759207 45.84512143 46.68907502 48.56269588\n",
      " 50.93085327 50.62957834 51.4108588 51.05336432 50.60399396 49.74276751\n",
      " 49.62885257 50.15711743 49.77101433 47.23455672 47.99347443 47.23455672\n",
      " 46.23507722 44.40216176 43.16724984 45.52923608 48.19866247 49.88309188\n",
      " 50.29095505 51.22202767 50.7563819 50.44888467 50.57833401 50.93085327\n",
      " 51.43417664 49.99374165 49.68599679 48.26599528 47.08216878 45.29635646\n",
      " 46.8088823 48.36602583 49.79916959 51.10188897 51.31695637 50.42276167\n",
      " 50.23766722 49.12732066 50.2109002 49.12732066 49.0663668 49.03572871\n",
      " 48.16479931 73.4141919 70.67289958 68.726434]\n"
     ]
    }
   ],
   "source": [
    "print(decibel_split_array[1])"
   ]
  },
  {
   "cell_type": "code",
   "execution_count": null,
   "id": "6579141a-0a38-4a66-84f1-d5afc5196669",
   "metadata": {},
   "outputs": [],
   "source": []
  }
 ],
 "metadata": {
  "kernelspec": {
   "display_name": "Python 3 (ipykernel)",
   "language": "python",
   "name": "python3"
  },
  "language_info": {
   "codemirror_mode": {
    "name": "ipython",
    "version": 3
   },
   "file_extension": ".py",
   "mimetype": "text/x-python",
   "name": "python",
   "nbconvert_exporter": "python",
   "pygments_lexer": "ipython3",
   "version": "3.8.10"
  }
 },
 "nbformat": 4,
 "nbformat_minor": 5
}
