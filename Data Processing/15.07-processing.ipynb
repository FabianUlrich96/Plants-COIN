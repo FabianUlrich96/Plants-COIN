{
 "cells": [
  {
   "cell_type": "code",
   "execution_count": 1,
   "id": "1623d6b4-8c7b-4fa0-8cf2-39018c6556d6",
   "metadata": {},
   "outputs": [],
   "source": [
    "from scipy.io import wavfile\n",
    "import matplotlib.pyplot as plt\n",
    "import numpy as np\n",
    "from scipy import signal\n",
    "import scipy.stats as stats\n",
    "from scipy.stats import kurtosis\n",
    "from pyeeg import hjorth_mobility_complexity\n",
    "import pandas as pd\n",
    "from scipy.stats import skew"
   ]
  },
  {
   "cell_type": "code",
   "execution_count": 55,
   "id": "9c3a7fe5-2773-474e-8a51-eddba5bf7685",
   "metadata": {},
   "outputs": [],
   "source": [
    "\n",
    "\n",
    "wav_file = \"./Collection - 10.07.21 - Cleaned_Data/chili_construction-19.23.07.wav\"\n",
    "samplerate, data = wavfile.read(wav_file)\n",
    "nyq = 0.5 *samplerate\n",
    "low_cut = 0\n",
    "high_cut = 20\n",
    "low = low_cut/nyq\n",
    "high = high_cut/nyq\n",
    "b, a = signal.butter(20, 0.1, 'low')\n",
    "length = int(len(data/ samplerate))\n",
    "start = 0 \n",
    "finish = samplerate\n",
    "new_data = np.array([])\n",
    "while start < len(data):\n",
    "    data_new = data[start:finish]\n",
    "    snippet_mean = np.mean(data_new)\n",
    "    new_data = np.append(new_data, [snippet_mean])\n",
    "    start = start + samplerate\n",
    "    finish = finish + samplerate\n",
    "transformed_data = new_data[0:len(new_data) - 1]\n",
    "filteredData = signal.filtfilt(b, a, transformed_data) #data is the signal to be filtered\n",
    "split_array = np.array_split(filteredData, 15)\n",
    "\n",
    "wav_file2 = \"./Collection - 10.07.21 - Cleaned_Data/chili_construction-19.23.07.wav\"\n",
    "samplerate2, data2 = wavfile.read(wav_file2)\n",
    "nyq = 0.5 *samplerate2\n",
    "low_cut = 0\n",
    "high_cut = 20\n",
    "low = low_cut/nyq\n",
    "high = high_cut/nyq\n",
    "b, a = signal.butter(20, 0.1, 'low')\n",
    "length2 = int(len(data2/ samplerate2))\n",
    "start2 = 0 \n",
    "finish2 = samplerate2\n",
    "new_data2 = np.array([])\n",
    "while start2 < len(data2):\n",
    "    data_new2 = data2[start2:finish2]\n",
    "    snippet_mean2 = np.mean(data_new2)\n",
    "    new_data2 = np.append(new_data2, [snippet_mean2])\n",
    "    start2 = start2 + samplerate2\n",
    "    finish2 = finish2 + samplerate2\n",
    "transformed_data2 = new_data2[0:len(new_data2) - 1]\n",
    "filteredData2 = signal.filtfilt(b, a, transformed_data2) #data is the signal to be filtered\n",
    "split_array2 = np.array_split(filteredData2, 15)"
   ]
  },
  {
   "cell_type": "code",
   "execution_count": 56,
   "id": "b7d994fa-8d17-419d-8ee8-fc3999f80730",
   "metadata": {},
   "outputs": [],
   "source": [
    "csv_file_decibel = \"./Collection - 10.07.21 - Cleaned_Data/chili_construction-19.23.07_decibel.csv\"\n",
    "decibel_df = pd.read_csv(csv_file_decibel)\n",
    "conv_arr= decibel_df.values\n",
    "decibel = np.delete(conv_arr,[0],axis=1) \n",
    "decibel = decibel.ravel()\n",
    "decibel_split_array = np.array_split(decibel, 15)\n",
    "\n",
    "csv_file_decibel2 = \"./Collection - 10.07.21 - Cleaned_Data/chili_construction-19.23.07_decibel.csv\"\n",
    "decibel_df2 = pd.read_csv(csv_file_decibel2)\n",
    "conv_arr2= decibel_df2.values\n",
    "decibel2 = np.delete(conv_arr2,[0],axis=1) \n",
    "decibel2 = decibel2.ravel()\n",
    "decibel_split_array2 = np.array_split(decibel2, 15)"
   ]
  },
  {
   "cell_type": "code",
   "execution_count": 45,
   "id": "a6fb5278-0bd8-4567-adf6-c6eefc8fb7c7",
   "metadata": {},
   "outputs": [
    {
     "ename": "TypeError",
     "evalue": "'int' object is not callable",
     "output_type": "error",
     "traceback": [
      "\u001b[1;31m---------------------------------------------------------------------------\u001b[0m",
      "\u001b[1;31mTypeError\u001b[0m                                 Traceback (most recent call last)",
      "\u001b[1;32m~\\AppData\\Local\\Temp/ipykernel_10792/1529824493.py\u001b[0m in \u001b[0;36m<module>\u001b[1;34m\u001b[0m\n\u001b[0;32m      1\u001b[0m \u001b[0mmean_array\u001b[0m \u001b[1;33m=\u001b[0m \u001b[0mnp\u001b[0m\u001b[1;33m.\u001b[0m\u001b[0marray\u001b[0m\u001b[1;33m(\u001b[0m\u001b[1;33m[\u001b[0m\u001b[1;33m]\u001b[0m\u001b[1;33m)\u001b[0m\u001b[1;33m\u001b[0m\u001b[1;33m\u001b[0m\u001b[0m\n\u001b[0;32m      2\u001b[0m \u001b[0mi\u001b[0m \u001b[1;33m=\u001b[0m \u001b[1;36m0\u001b[0m\u001b[1;33m\u001b[0m\u001b[1;33m\u001b[0m\u001b[0m\n\u001b[1;32m----> 3\u001b[1;33m \u001b[1;32mwhile\u001b[0m \u001b[0mi\u001b[0m \u001b[1;33m<\u001b[0m \u001b[0mlen\u001b[0m\u001b[1;33m(\u001b[0m\u001b[0msplit_array\u001b[0m\u001b[1;33m)\u001b[0m\u001b[1;33m:\u001b[0m\u001b[1;33m\u001b[0m\u001b[1;33m\u001b[0m\u001b[0m\n\u001b[0m\u001b[0;32m      4\u001b[0m     \u001b[0mmean_value\u001b[0m \u001b[1;33m=\u001b[0m \u001b[0mnp\u001b[0m\u001b[1;33m.\u001b[0m\u001b[0mmean\u001b[0m\u001b[1;33m(\u001b[0m\u001b[0msplit_array\u001b[0m\u001b[1;33m[\u001b[0m\u001b[0mi\u001b[0m\u001b[1;33m]\u001b[0m\u001b[1;33m)\u001b[0m\u001b[1;33m\u001b[0m\u001b[1;33m\u001b[0m\u001b[0m\n\u001b[0;32m      5\u001b[0m     \u001b[0mmean_array\u001b[0m \u001b[1;33m=\u001b[0m \u001b[0mnp\u001b[0m\u001b[1;33m.\u001b[0m\u001b[0mappend\u001b[0m\u001b[1;33m(\u001b[0m\u001b[0mmean_array\u001b[0m\u001b[1;33m,\u001b[0m \u001b[0mmean_value\u001b[0m\u001b[1;33m)\u001b[0m\u001b[1;33m\u001b[0m\u001b[1;33m\u001b[0m\u001b[0m\n",
      "\u001b[1;31mTypeError\u001b[0m: 'int' object is not callable"
     ]
    }
   ],
   "source": [
    "\n",
    "mean_array = np.array([])\n",
    "i = 0\n",
    "while i < len(split_array):\n",
    "    mean_value = np.mean(split_array[i])\n",
    "    mean_array = np.append(mean_array, mean_value)\n",
    "    print(mean_value)\n",
    "    i = i + 1\n",
    "\n",
    "print(mean_array)\n",
    "\n",
    "plt.hist(mean_array, bins='auto')\n",
    "plt.show()\n",
    " \n",
    "    \n",
    "    \n",
    "i = 0\n",
    "while i < len(split_array):\n",
    "    max = signal.argrelmax(split_array[i])\n",
    "    peaks, _= signal.find_peaks(split_array[i], height=0)\n",
    "    plt.plot(split_array[i])\n",
    "    number = str(i)\n",
    "    title = \"Chili No Sound Minute - \"\n",
    "    plt.title(title + number )\n",
    "    plt.xlabel('Time') \n",
    "    plt.ylabel('Amplitude') \n",
    "    plt.plot(peaks, split_array[i][peaks], \"x\")\n",
    "    plt.savefig(title + number + '.png')\n",
    "    plt.clf()\n",
    "    i = i + 1\n",
    "    print(peaks)\n"
   ]
  },
  {
   "cell_type": "code",
   "execution_count": 8,
   "id": "e7e9def1-652c-41ec-8572-9214b87c112d",
   "metadata": {},
   "outputs": [
    {
     "name": "stdout",
     "output_type": "stream",
     "text": [
      "-1.0893043259348136\n",
      "-0.9973535002721254\n",
      "-0.7216133514395202\n",
      "-1.4834635227328066\n",
      "-1.2701954226752143\n",
      "0.7242135806420236\n",
      "-0.0243214689017468\n",
      "-0.11121799326504966\n",
      "0.8356691348412864\n",
      "0.7597848369580813\n",
      "-0.2522646692598549\n",
      "-1.0926214838891233\n",
      "-1.2022076589368038\n",
      "-0.6441266947526332\n",
      "-0.8998637179680351\n"
     ]
    }
   ],
   "source": [
    " i = 0\n",
    "while i < len(split_array):\n",
    "    kurtosis_value = kurtosis(split_array[i])\n",
    "    print(kurtosis_value)\n",
    "    i = i + 1"
   ]
  },
  {
   "cell_type": "code",
   "execution_count": 9,
   "id": "a99ba380-d564-48fe-b877-f603f25fe96a",
   "metadata": {},
   "outputs": [
    {
     "data": {
      "text/plain": [
       "'i = 0\\nwhile i < len(split_array):\\n    max = signal.argrelmax(decibel_split_array[i])\\n    peaks, _= signal.find_peaks(decibel_split_array[i], height=0)\\n    plt.plot(decibel_split_array[i])\\n    number = str(i)\\n    title = \"Decibel Title minute\"\\n    plt.title(title + number )\\n    plt.plot(peaks, decibel_split_array[i][peaks], \"x\")\\n    plt.savefig(title + number + \\'.png\\')\\n    plt.clf()\\n    i = i + 1\\n    print(peaks) '"
      ]
     },
     "execution_count": 9,
     "metadata": {},
     "output_type": "execute_result"
    }
   ],
   "source": [
    "'''i = 0\n",
    "while i < len(split_array):\n",
    "    max = signal.argrelmax(decibel_split_array[i])\n",
    "    peaks, _= signal.find_peaks(decibel_split_array[i], height=0)\n",
    "    plt.plot(decibel_split_array[i])\n",
    "    number = str(i)\n",
    "    title = \"Decibel Title minute\"\n",
    "    plt.title(title + number )\n",
    "    plt.plot(peaks, decibel_split_array[i][peaks], \"x\")\n",
    "    plt.savefig(title + number + '.png')\n",
    "    plt.clf()\n",
    "    i = i + 1\n",
    "    print(peaks) ''' "
   ]
  },
  {
   "cell_type": "code",
   "execution_count": 10,
   "id": "36b2d57a-2003-4d32-b3bd-b0b00bf87fd8",
   "metadata": {},
   "outputs": [
    {
     "name": "stdout",
     "output_type": "stream",
     "text": [
      "35.27017148288305\n",
      "52.56789486522862\n",
      "116.82691626388186\n",
      "101.02203700159085\n",
      "64.83941587883248\n",
      "31.741263777249742\n",
      "33.48453799372189\n",
      "40.762034550287765\n",
      "22.9144393625962\n",
      "15.767300403506843\n",
      "32.05168067508433\n",
      "44.52177712491589\n",
      "40.31589749947932\n",
      "21.64809640194036\n",
      "30.857902607230457\n"
     ]
    }
   ],
   "source": [
    " i = 0\n",
    "while i < len(split_array):\n",
    "    std_value = np.std(split_array[i])\n",
    "    print(std_value)\n",
    "    i = i + 1\n"
   ]
  },
  {
   "cell_type": "code",
   "execution_count": 11,
   "id": "c3744435-4d4b-4ebd-88fb-d64ba501c0f7",
   "metadata": {},
   "outputs": [
    {
     "name": "stdout",
     "output_type": "stream",
     "text": [
      "0.6366248782237249\n",
      "0.006809642455781379\n",
      "0.41398436215061224\n",
      "0.0003991780846042023\n",
      "-0.0981229901927066\n",
      "1.1345451733151908\n",
      "0.865940762279361\n",
      "1.0193404637190602\n",
      "1.0829230246557837\n",
      "1.2258566497899872\n",
      "-0.1142330558495771\n",
      "-0.6474836514656811\n",
      "0.3704699790828949\n",
      "-0.6408699586647963\n",
      "0.45135067895280895\n"
     ]
    }
   ],
   "source": [
    " i = 0\n",
    "while i < len(split_array):\n",
    "    skew_value = skew(split_array[i])\n",
    "    print(skew_value)\n",
    "    i = i + 1"
   ]
  },
  {
   "cell_type": "code",
   "execution_count": 120,
   "id": "abc146dd-b266-4555-bf6e-5c0e64abfde8",
   "metadata": {},
   "outputs": [
    {
     "name": "stdout",
     "output_type": "stream",
     "text": [
      "61\n",
      "61\n",
      "(0.023342753890835104, 36.35665289200419)\n",
      "(0.0264421696143133, 26.154844614746903)\n",
      "(0.04596451961303654, 18.812181805651356)\n",
      "(0.03887798642966847, 23.27795524453967)\n",
      "(0.013489531849387549, 20.833759912306668)\n",
      "(0.014207712851418253, 18.528110299954474)\n",
      "(0.022517517025993194, 16.716865800255416)\n",
      "(0.035061964056045114, 27.801889060347023)\n",
      "(0.019410795706082225, 53.36481211216464)\n",
      "(0.0266977860527332, 37.987155425492745)\n",
      "(0.014965285106581202, 58.51578714929216)\n",
      "(0.018655802256575788, 50.1609386685638)\n",
      "(0.015746583030870752, 58.39718589593805)\n",
      "(0.018557333168721615, 50.2000991105644)\n",
      "(0.026348058857327286, 36.36972262486482)\n"
     ]
    }
   ],
   "source": [
    "'''while len(split_array[3]) != len(split_array2[3]): \n",
    "    split_array[1] = np.append(split_array[3],0)\n",
    "'''\n",
    "print(len(split_array[0]))\n",
    "print(len(split_array2[0]))\n",
    "ttest = stats.ttest_ind(split_array[0],\n",
    "                split_array2[0])\n",
    "\n",
    "pearson = stats.pearsonr(split_array[0],\n",
    "                split_array2[0])\n",
    "\n",
    "\n",
    "i = 0\n",
    "while i < len(split_array):\n",
    "    hjorth_value = hjorth_mobility_complexity.hjorth(split_array[i])\n",
    "    print(hjorth_value)\n",
    "    i = i + 1\n",
    "#hjorth_mobility_complexity.hjorth(split_array[4])"
   ]
  },
  {
   "cell_type": "code",
   "execution_count": 112,
   "id": "73e61281-f1d7-4802-a22c-31a8d31b7056",
   "metadata": {},
   "outputs": [
    {
     "name": "stdout",
     "output_type": "stream",
     "text": [
      "Ttest_indResult(statistic=-3.3093858333254302, pvalue=0.001240358269369085)\n"
     ]
    }
   ],
   "source": [
    "print(ttest)"
   ]
  },
  {
   "cell_type": "code",
   "execution_count": 109,
   "id": "e3d49c89-13e7-473c-bb1d-b644ed6c6128",
   "metadata": {},
   "outputs": [
    {
     "name": "stdout",
     "output_type": "stream",
     "text": [
      "(0.6536904870571367, 1.4907195812255288e-08)\n"
     ]
    }
   ],
   "source": [
    "print(pearson)"
   ]
  },
  {
   "cell_type": "code",
   "execution_count": 114,
   "id": "47aee1d0-a8e1-4eb2-b232-8b264ddc44bf",
   "metadata": {},
   "outputs": [
    {
     "name": "stdout",
     "output_type": "stream",
     "text": [
      "Ttest_indResult(statistic=-28.71831593524007, pvalue=1.49319460898324e-54)\n",
      "\n",
      "\n",
      "(0.11809940207079567, 0.3730082269088869)\n",
      "Ttest_indResult(statistic=-19.410387790104725, pvalue=6.204213946744823e-38)\n",
      "\n",
      "\n",
      "(0.06904746400504344, 0.6065403865321428)\n",
      "Ttest_indResult(statistic=-21.676509063848073, pvalue=3.036069142351038e-42)\n",
      "\n",
      "\n",
      "(-0.1567308087330933, 0.24002650399785677)\n",
      "Ttest_indResult(statistic=-115.64140088793971, pvalue=5.162613677295386e-120)\n",
      "\n",
      "\n",
      "(0.19761054181607002, 0.1370406999857057)\n",
      "Ttest_indResult(statistic=-35.96171549061885, pvalue=4.753937110557004e-64)\n",
      "\n",
      "\n",
      "(-0.08822609421068552, 0.51017236179235)\n",
      "Ttest_indResult(statistic=-31.247987597546068, pvalue=9.918067462061226e-58)\n",
      "\n",
      "\n",
      "(-0.1574428115310586, 0.2378707726992456)\n",
      "Ttest_indResult(statistic=-66.47359687401436, pvalue=5.11664579025216e-93)\n",
      "\n",
      "\n",
      "(-0.05778081966531179, 0.6665944370285345)\n",
      "Ttest_indResult(statistic=-43.82394155895926, pvalue=3.5144884486531673e-73)\n",
      "\n",
      "\n",
      "(-0.2912893748326099, 0.02652399394423527)\n",
      "Ttest_indResult(statistic=-71.32443880601355, pvalue=2.009342668521879e-96)\n",
      "\n",
      "\n",
      "(0.08166667533135437, 0.5422361238865651)\n",
      "Ttest_indResult(statistic=-134.73318103119587, pvalue=1.5935837147064594e-127)\n",
      "\n",
      "\n",
      "(0.16052950263642282, 0.22867920745819859)\n",
      "Ttest_indResult(statistic=-92.99019859789007, pvalue=2.470850584139155e-109)\n",
      "\n",
      "\n",
      "(0.2879722480115041, 0.028375557126926382)\n",
      "Ttest_indResult(statistic=-85.71464959972779, pvalue=2.3440241675234283e-105)\n",
      "\n",
      "\n",
      "(0.1177245775695057, 0.37879834583038957)\n",
      "Ttest_indResult(statistic=-77.4930398277959, pvalue=1.8995285446891986e-100)\n",
      "\n",
      "\n",
      "(-0.01023920171196938, 0.9391932466226353)\n",
      "Ttest_indResult(statistic=-61.041090281061805, pvalue=6.539836503274655e-89)\n",
      "\n",
      "\n",
      "(0.13058342020181846, 0.32855103013536346)\n",
      "Ttest_indResult(statistic=-104.5444335261576, pvalue=4.583059945514753e-115)\n",
      "\n",
      "\n",
      "(0.38884519503003, 0.0025564646463595063)\n"
     ]
    }
   ],
   "source": [
    "i = 0\n",
    "while i < len(split_array):\n",
    "\n",
    "    cut = split_array[i][0:len(decibel_split_array[i])]\n",
    "\n",
    "    ttest = stats.ttest_ind(cut,\n",
    "                decibel_split_array[i])\n",
    "    print(ttest)\n",
    "    print(\"\\n\")\n",
    "    pearson = stats.pearsonr(cut,\n",
    "                decibel_split_array[i])\n",
    "    print(pearson)\n",
    "    i = i + 1"
   ]
  },
  {
   "cell_type": "code",
   "execution_count": null,
   "id": "eb842713-cd4f-41ec-aa8f-00ba75e9d1cf",
   "metadata": {},
   "outputs": [],
   "source": []
  }
 ],
 "metadata": {
  "kernelspec": {
   "display_name": "Python 3 (ipykernel)",
   "language": "python",
   "name": "python3"
  },
  "language_info": {
   "codemirror_mode": {
    "name": "ipython",
    "version": 3
   },
   "file_extension": ".py",
   "mimetype": "text/x-python",
   "name": "python",
   "nbconvert_exporter": "python",
   "pygments_lexer": "ipython3",
   "version": "3.9.5"
  }
 },
 "nbformat": 4,
 "nbformat_minor": 5
}
