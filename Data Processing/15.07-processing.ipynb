{
 "cells": [
  {
   "cell_type": "code",
   "execution_count": 42,
   "id": "1623d6b4-8c7b-4fa0-8cf2-39018c6556d6",
   "metadata": {},
   "outputs": [],
   "source": [
    "from scipy.io import wavfile\n",
    "import matplotlib.pyplot as plt\n",
    "import numpy as np\n",
    "from scipy import signal\n",
    "import scipy.stats as stats\n",
    "from scipy.stats import kurtosis\n",
    "from pyeeg import hjorth_mobility_complexity\n",
    "import pandas as pd\n",
    "from scipy.stats import skew"
   ]
  },
  {
   "cell_type": "code",
   "execution_count": 43,
   "id": "9c3a7fe5-2773-474e-8a51-eddba5bf7685",
   "metadata": {},
   "outputs": [],
   "source": [
    "\n",
    "\n",
    "wav_file = \"./Collection - 10.07.21 - Cleaned_Data/mimosa_street-17.53.26.wav\"\n",
    "samplerate, data = wavfile.read(wav_file)\n",
    "nyq = 0.5 *samplerate\n",
    "low_cut = 0\n",
    "high_cut = 20\n",
    "low = low_cut/nyq\n",
    "high = high_cut/nyq\n",
    "b, a = signal.butter(20, 0.1, 'low')\n",
    "length = int(len(data/ samplerate))\n",
    "start = 0 \n",
    "finish = samplerate\n",
    "new_data = np.array([])\n",
    "while start < len(data):\n",
    "    data_new = data[start:finish]\n",
    "    snippet_mean = np.mean(data_new)\n",
    "    new_data = np.append(new_data, [snippet_mean])\n",
    "    start = start + samplerate\n",
    "    finish = finish + samplerate\n",
    "transformed_data = new_data[0:len(new_data) - 1]\n",
    "filteredData = signal.filtfilt(b, a, transformed_data) #data is the signal to be filtered\n",
    "split_array = np.array_split(filteredData, 15)\n",
    "\n",
    "wav_file2 = \"./Collection - 10.07.21 - Cleaned_Data/chili_nosound-18.34.35.wav\"\n",
    "samplerate2, data2 = wavfile.read(wav_file2)\n",
    "nyq = 0.5 *samplerate2\n",
    "low_cut = 0\n",
    "high_cut = 20\n",
    "low = low_cut/nyq\n",
    "high = high_cut/nyq\n",
    "b, a = signal.butter(20, 0.1, 'low')\n",
    "length2 = int(len(data2/ samplerate2))\n",
    "start2 = 0 \n",
    "finish2 = samplerate2\n",
    "new_data2 = np.array([])\n",
    "while start2 < len(data2):\n",
    "    data_new2 = data2[start2:finish2]\n",
    "    snippet_mean2 = np.mean(data_new2)\n",
    "    new_data2 = np.append(new_data2, [snippet_mean2])\n",
    "    start2 = start2 + samplerate2\n",
    "    finish2 = finish2 + samplerate2\n",
    "transformed_data2 = new_data2[0:len(new_data2) - 1]\n",
    "filteredData2 = signal.filtfilt(b, a, transformed_data2) #data is the signal to be filtered\n",
    "split_array2 = np.array_split(filteredData2, 15)"
   ]
  },
  {
   "cell_type": "code",
   "execution_count": 44,
   "id": "b7d994fa-8d17-419d-8ee8-fc3999f80730",
   "metadata": {},
   "outputs": [],
   "source": [
    "csv_file_decibel = \"./Collection - 10.07.21 - Cleaned_Data/chili_construction-19.23.07_decibel.csv\"\n",
    "decibel_df = pd.read_csv(csv_file_decibel)\n",
    "conv_arr= decibel_df.values\n",
    "decibel = np.delete(conv_arr,[0],axis=1) \n",
    "decibel = decibel.ravel()\n",
    "decibel_split_array = np.array_split(decibel, 15)\n",
    "\n",
    "csv_file_decibel2 = \"./Collection - 10.07.21 - Cleaned_Data/chili_construction-19.23.07_decibel.csv\"\n",
    "decibel_df2 = pd.read_csv(csv_file_decibel2)\n",
    "conv_arr2= decibel_df2.values\n",
    "decibel2 = np.delete(conv_arr2,[0],axis=1) \n",
    "decibel2 = decibel2.ravel()\n",
    "decibel_split_array2 = np.array_split(decibel2, 15)"
   ]
  },
  {
   "cell_type": "code",
   "execution_count": 63,
   "id": "a6fb5278-0bd8-4567-adf6-c6eefc8fb7c7",
   "metadata": {},
   "outputs": [
    {
     "name": "stdout",
     "output_type": "stream",
     "text": [
      "-135.14379694482392\n",
      "-30.279913766612687\n",
      "-67.62529737094088\n",
      "-3.510098017898206\n",
      "-43.164680287724984\n",
      "-28.397536511047843\n",
      "-61.65518951358628\n",
      "-24.56778805484745\n",
      "-14.744409007235854\n",
      "-31.04264968062616\n",
      "-25.074407118064293\n",
      "-76.0685950908515\n",
      "-24.958003863775467\n",
      "-31.619695052171263\n",
      "-45.06457157113409\n",
      "[53]\n",
      "[14 50]\n",
      "[12]\n",
      "[ 9 34]\n",
      "[32 56]\n",
      "[34 56]\n",
      "[]\n",
      "[11 25]\n",
      "[29]\n",
      "[28]\n",
      "[52]\n",
      "[]\n",
      "[14]\n",
      "[]\n",
      "[]\n"
     ]
    },
    {
     "data": {
      "text/plain": [
       "<Figure size 432x288 with 0 Axes>"
      ]
     },
     "metadata": {},
     "output_type": "display_data"
    }
   ],
   "source": [
    " i = 0\n",
    "while i < len(split_array):\n",
    "    mean_value = np.mean(split_array[i])\n",
    "    print(mean_value)\n",
    "    i = i + 1\n",
    "    \n",
    "    \n",
    "i = 0\n",
    "while i < len(split_array):\n",
    "    max = signal.argrelmax(split_array[i])\n",
    "    peaks, _= signal.find_peaks(split_array[i], height=0)\n",
    "    plt.plot(split_array[i])\n",
    "    number = str(i)\n",
    "    title = \"Mimosa Street Minute - \"\n",
    "    plt.title(title + number )\n",
    "    plt.xlabel('Time') \n",
    "    plt.ylabel('Amplitude') \n",
    "    plt.plot(peaks, split_array[i][peaks], \"x\")\n",
    "    plt.savefig(title + number + '.png')\n",
    "    plt.clf()\n",
    "    i = i + 1\n",
    "    print(peaks)\n"
   ]
  },
  {
   "cell_type": "code",
   "execution_count": 46,
   "id": "e7e9def1-652c-41ec-8572-9214b87c112d",
   "metadata": {},
   "outputs": [
    {
     "name": "stdout",
     "output_type": "stream",
     "text": [
      "-0.9539408420347875\n",
      "-1.1838442068835433\n",
      "-0.6018163208662131\n",
      "-0.8452251290064146\n",
      "-0.9174256195460297\n",
      "-1.3143253802936143\n",
      "-0.6348374800616301\n",
      "-1.4318601213541204\n",
      "-0.6656851377354616\n",
      "-0.4911672520484962\n",
      "-0.874756350346305\n",
      "-1.276185453486883\n",
      "-1.2303610883177\n",
      "0.07568995335842965\n",
      "-1.2796087802433045\n"
     ]
    }
   ],
   "source": [
    " i = 0\n",
    "while i < len(split_array):\n",
    "    kurtosis_value = kurtosis(split_array[i])\n",
    "    print(kurtosis_value)\n",
    "    i = i + 1"
   ]
  },
  {
   "cell_type": "code",
   "execution_count": 47,
   "id": "a99ba380-d564-48fe-b877-f603f25fe96a",
   "metadata": {},
   "outputs": [
    {
     "data": {
      "text/plain": [
       "'i = 0\\nwhile i < len(split_array):\\n    max = signal.argrelmax(decibel_split_array[i])\\n    peaks, _= signal.find_peaks(decibel_split_array[i], height=0)\\n    plt.plot(decibel_split_array[i])\\n    number = str(i)\\n    title = \"Decibel Title minute\"\\n    plt.title(title + number )\\n    plt.plot(peaks, decibel_split_array[i][peaks], \"x\")\\n    plt.savefig(title + number + \\'.png\\')\\n    plt.clf()\\n    i = i + 1\\n    print(peaks) '"
      ]
     },
     "execution_count": 47,
     "metadata": {},
     "output_type": "execute_result"
    }
   ],
   "source": [
    "'''i = 0\n",
    "while i < len(split_array):\n",
    "    max = signal.argrelmax(decibel_split_array[i])\n",
    "    peaks, _= signal.find_peaks(decibel_split_array[i], height=0)\n",
    "    plt.plot(decibel_split_array[i])\n",
    "    number = str(i)\n",
    "    title = \"Decibel Title minute\"\n",
    "    plt.title(title + number )\n",
    "    plt.plot(peaks, decibel_split_array[i][peaks], \"x\")\n",
    "    plt.savefig(title + number + '.png')\n",
    "    plt.clf()\n",
    "    i = i + 1\n",
    "    print(peaks) ''' "
   ]
  },
  {
   "cell_type": "code",
   "execution_count": 48,
   "id": "36b2d57a-2003-4d32-b3bd-b0b00bf87fd8",
   "metadata": {},
   "outputs": [
    {
     "name": "stdout",
     "output_type": "stream",
     "text": [
      "202.85664271588226\n",
      "69.7575641791073\n",
      "80.56410117185732\n",
      "111.1051190111316\n",
      "54.638136585846574\n",
      "27.02297734797011\n",
      "29.297220899109174\n",
      "163.00730171339922\n",
      "74.31433408706607\n",
      "54.61976262697221\n",
      "84.44677320535855\n",
      "73.7007534330202\n",
      "34.67003541172823\n",
      "13.765597634636846\n",
      "16.492858156487614\n"
     ]
    }
   ],
   "source": [
    " i = 0\n",
    "while i < len(split_array):\n",
    "    std_value = np.std(split_array[i])\n",
    "    print(std_value)\n",
    "    i = i + 1\n"
   ]
  },
  {
   "cell_type": "code",
   "execution_count": 49,
   "id": "c3744435-4d4b-4ebd-88fb-d64ba501c0f7",
   "metadata": {},
   "outputs": [
    {
     "name": "stdout",
     "output_type": "stream",
     "text": [
      "0.5066102671949756\n",
      "-0.3622317976536152\n",
      "0.6313954171551511\n",
      "0.17447601431693582\n",
      "-0.014997519256348985\n",
      "-0.20351449173866795\n",
      "-0.16108855659592097\n",
      "-0.4482960290210528\n",
      "0.7734154040506609\n",
      "0.7395752592746018\n",
      "0.7145378603369018\n",
      "0.010029739598000619\n",
      "0.5248193855461213\n",
      "0.09229318566310779\n",
      "0.2766488186161035\n"
     ]
    }
   ],
   "source": [
    " i = 0\n",
    "while i < len(split_array):\n",
    "    skew_value = skew(split_array[i])\n",
    "    print(skew_value)\n",
    "    i = i + 1"
   ]
  },
  {
   "cell_type": "code",
   "execution_count": 61,
   "id": "abc146dd-b266-4555-bf6e-5c0e64abfde8",
   "metadata": {},
   "outputs": [
    {
     "name": "stdout",
     "output_type": "stream",
     "text": [
      "(0.01872940257690274, 33.68425630754494)\n",
      "(0.024732308518558888, 25.908101690668417)\n",
      "(0.021822520619476364, 23.623794353015157)\n",
      "(0.027833156033856884, 18.79167330943444)\n",
      "(0.019900582568990154, 26.359608745452963)\n",
      "(0.01445808585942442, 15.833198469471938)\n",
      "(0.011999117632952708, 18.148115569336813)\n",
      "(0.013430791188288878, 17.37346674329902)\n",
      "(0.03007941844030735, 26.44175610197164)\n",
      "(0.022479441483570846, 12.644610948084427)\n",
      "(0.017949067641004998, 36.96414142433162)\n",
      "(0.01460911034220352, 58.30001181497247)\n",
      "(0.012416943459593934, 32.27772273369765)\n",
      "(0.03277695211569944, 29.93845043033378)\n",
      "(0.015025954008752425, 58.48873230823634)\n"
     ]
    }
   ],
   "source": [
    "ttest = stats.ttest_ind(split_array[9],\n",
    "                split_array2[9])\n",
    "\n",
    "pearson = stats.pearsonr(split_array[9],\n",
    "                split_array2[9])\n",
    "\n",
    "\n",
    "i = 0\n",
    "while i < len(split_array):\n",
    "    hjorth_value = hjorth_mobility_complexity.hjorth(split_array[i])\n",
    "    print(hjorth_value)\n",
    "    i = i + 1\n",
    "#hjorth_mobility_complexity.hjorth(split_array[4])"
   ]
  },
  {
   "cell_type": "code",
   "execution_count": 51,
   "id": "73e61281-f1d7-4802-a22c-31a8d31b7056",
   "metadata": {},
   "outputs": [
    {
     "name": "stdout",
     "output_type": "stream",
     "text": [
      "Ttest_indResult(statistic=1.2754480251935874, pvalue=0.20465597999554688)\n"
     ]
    }
   ],
   "source": [
    "print(ttest)"
   ]
  },
  {
   "cell_type": "code",
   "execution_count": 52,
   "id": "e3d49c89-13e7-473c-bb1d-b644ed6c6128",
   "metadata": {},
   "outputs": [
    {
     "name": "stdout",
     "output_type": "stream",
     "text": [
      "(-0.12261518525901563, 0.35065380987905953)\n"
     ]
    }
   ],
   "source": [
    "print(pearson)"
   ]
  },
  {
   "cell_type": "code",
   "execution_count": null,
   "id": "47aee1d0-a8e1-4eb2-b232-8b264ddc44bf",
   "metadata": {},
   "outputs": [],
   "source": []
  }
 ],
 "metadata": {
  "kernelspec": {
   "display_name": "Python 3 (ipykernel)",
   "language": "python",
   "name": "python3"
  },
  "language_info": {
   "codemirror_mode": {
    "name": "ipython",
    "version": 3
   },
   "file_extension": ".py",
   "mimetype": "text/x-python",
   "name": "python",
   "nbconvert_exporter": "python",
   "pygments_lexer": "ipython3",
   "version": "3.9.5"
  }
 },
 "nbformat": 4,
 "nbformat_minor": 5
}
