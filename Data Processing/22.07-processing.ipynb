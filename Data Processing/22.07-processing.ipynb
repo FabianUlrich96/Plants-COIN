{
 "cells": [
  {
   "cell_type": "code",
   "execution_count": 1,
   "id": "056eca63-f70c-4d83-94ba-1ba8faf5cced",
   "metadata": {},
   "outputs": [],
   "source": [
    "import pandas as pd"
   ]
  },
  {
   "cell_type": "code",
   "execution_count": 73,
   "id": "293c0f7f-1f63-4b3b-9dfa-bf281605836a",
   "metadata": {},
   "outputs": [],
   "source": [
    "file = \"./Collection - 10.07.21 - Cleaned_Data/mimosa_street-17.53.26.csv\"\n",
    "file_df = pd.read_csv(file)"
   ]
  },
  {
   "cell_type": "code",
   "execution_count": 82,
   "id": "2695ae94-2efb-45f5-a2f5-e1d283eb6e95",
   "metadata": {},
   "outputs": [],
   "source": [
    "sensor = \"Photoresistor\"\n",
    "max_value = file_df[sensor].max()\n",
    "min_value = file_df[sensor].min()\n",
    "mean_value = file_df[sensor].median()"
   ]
  },
  {
   "cell_type": "code",
   "execution_count": 83,
   "id": "4ec3e016-a1e8-4d75-b351-41c726787c53",
   "metadata": {},
   "outputs": [
    {
     "name": "stdout",
     "output_type": "stream",
     "text": [
      "148\n",
      "540\n",
      "151.0\n"
     ]
    }
   ],
   "source": [
    "print(min_value)\n",
    "print(max_value)\n",
    "print(mean_value)"
   ]
  },
  {
   "cell_type": "code",
   "execution_count": null,
   "id": "d68934f6-deea-4099-8c7b-edae253c83d1",
   "metadata": {},
   "outputs": [],
   "source": []
  }
 ],
 "metadata": {
  "kernelspec": {
   "display_name": "Python 3 (ipykernel)",
   "language": "python",
   "name": "python3"
  },
  "language_info": {
   "codemirror_mode": {
    "name": "ipython",
    "version": 3
   },
   "file_extension": ".py",
   "mimetype": "text/x-python",
   "name": "python",
   "nbconvert_exporter": "python",
   "pygments_lexer": "ipython3",
   "version": "3.9.5"
  }
 },
 "nbformat": 4,
 "nbformat_minor": 5
}
