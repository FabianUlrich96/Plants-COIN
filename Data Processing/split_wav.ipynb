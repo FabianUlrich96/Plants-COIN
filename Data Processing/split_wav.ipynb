{
 "cells": [
  {
   "cell_type": "code",
   "execution_count": 23,
   "id": "43bfbea0-0629-4e9c-8697-e7bdbbc49093",
   "metadata": {},
   "outputs": [
    {
     "name": "stdout",
     "output_type": "stream",
     "text": [
      "600699\n"
     ]
    }
   ],
   "source": [
    "from scipy.io import wavfile\n",
    "import numpy as np\n",
    "\n",
    "\n",
    "wav_file = \"./Collection - 10.07.21 - Cleaned_Data/mimosa_street-17.53.26.wav\"\n",
    "samplerate, data = wavfile.read(wav_file)\n",
    "length = int(len(data/ samplerate))\n",
    "\n",
    "split_array = np.array_split(data, 15)\n",
    "\n",
    "print(len(split_array[2]))"
   ]
  },
  {
   "cell_type": "code",
   "execution_count": 24,
   "id": "39a2e1ed-71a4-459d-a504-068025c62c4c",
   "metadata": {},
   "outputs": [],
   "source": [
    "from scipy.io.wavfile import write\n",
    "\n",
    "i = 0\n",
    "\n",
    "while i < len(split_array):\n",
    "    number = str(i)\n",
    "    write(\"mimosa_street-\" + number + \".wav\", samplerate, split_array[i])\n",
    "    i = i + 1"
   ]
  },
  {
   "cell_type": "code",
   "execution_count": 14,
   "id": "5571792b-0da2-40b6-a580-40e60a1e8413",
   "metadata": {},
   "outputs": [
    {
     "name": "stdout",
     "output_type": "stream",
     "text": [
      "600959\n"
     ]
    }
   ],
   "source": [
    "wav_file = \"chili_construction-0.wav\"\n",
    "samplerate, data = wavfile.read(wav_file)\n",
    "length = int(len(data/ samplerate))\n",
    "\n",
    "print(len(data))"
   ]
  },
  {
   "cell_type": "code",
   "execution_count": null,
   "id": "c62087a5-8203-426d-84b3-acc85d49d53d",
   "metadata": {},
   "outputs": [],
   "source": []
  }
 ],
 "metadata": {
  "kernelspec": {
   "display_name": "Python 3 (ipykernel)",
   "language": "python",
   "name": "python3"
  },
  "language_info": {
   "codemirror_mode": {
    "name": "ipython",
    "version": 3
   },
   "file_extension": ".py",
   "mimetype": "text/x-python",
   "name": "python",
   "nbconvert_exporter": "python",
   "pygments_lexer": "ipython3",
   "version": "3.9.5"
  }
 },
 "nbformat": 4,
 "nbformat_minor": 5
}
